{
 "cells": [
  {
   "cell_type": "code",
   "execution_count": 1,
   "metadata": {},
   "outputs": [],
   "source": [
    "str = \"C:\\\\\\\\Users\\\\\\\\53211\\\\\\\\AppData\\\\\\\\Local\\\\\\\\Programs\\\\\\\\sem-seg\\\\\\\\resources\\\\\\\\app.asar\\\\\\\\resources\\\\\\\\backend\\\\\\\\test.txt\"\n"
   ]
  },
  {
   "cell_type": "code",
   "execution_count": 2,
   "metadata": {},
   "outputs": [
    {
     "data": {
      "text/plain": [
       "'C:\\\\\\\\Users\\\\\\\\53211\\\\\\\\AppData\\\\\\\\Local\\\\\\\\Programs\\\\\\\\sem-seg\\\\\\\\resources\\\\\\\\app.asar.unpacked\\\\\\\\resources\\\\\\\\backend\\\\\\\\test.txt'"
      ]
     },
     "execution_count": 2,
     "metadata": {},
     "output_type": "execute_result"
    }
   ],
   "source": [
    "str.replace(\"app.asar\", \"app.asar.unpacked\")"
   ]
  },
  {
   "cell_type": "code",
   "execution_count": 3,
   "metadata": {},
   "outputs": [
    {
     "data": {
      "text/plain": [
       "'C:\\\\\\\\Users\\\\\\\\53211\\\\\\\\AppData\\\\\\\\Local\\\\\\\\Programs\\\\\\\\sem-seg\\\\\\\\resources\\\\\\\\app.asar\\\\\\\\resources\\\\\\\\backend\\\\\\\\test.txt'"
      ]
     },
     "execution_count": 3,
     "metadata": {},
     "output_type": "execute_result"
    }
   ],
   "source": [
    "str"
   ]
  }
 ],
 "metadata": {
  "kernelspec": {
   "display_name": ".venv",
   "language": "python",
   "name": "python3"
  },
  "language_info": {
   "codemirror_mode": {
    "name": "ipython",
    "version": 3
   },
   "file_extension": ".py",
   "mimetype": "text/x-python",
   "name": "python",
   "nbconvert_exporter": "python",
   "pygments_lexer": "ipython3",
   "version": "3.12.8"
  }
 },
 "nbformat": 4,
 "nbformat_minor": 2
}
